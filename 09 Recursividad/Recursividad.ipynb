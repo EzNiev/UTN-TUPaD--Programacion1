{
  "nbformat": 4,
  "nbformat_minor": 0,
  "metadata": {
    "colab": {
      "provenance": []
    },
    "kernelspec": {
      "name": "python3",
      "display_name": "Python 3"
    },
    "language_info": {
      "name": "python"
    }
  },
  "cells": [
    {
      "cell_type": "markdown",
      "source": [
        "# **RECURSIVIDAD**\n",
        "\n",
        "*Programación 1 - Tecnicatura Universitaria en Programación a Distancia - UTN*"
      ],
      "metadata": {
        "id": "tBEIPBfOUbyu"
      }
    },
    {
      "cell_type": "markdown",
      "source": [
        "#### **¿QUÉ ES LA RECURSIVIDAD?**\n",
        "La **recursividad** es una técnica de programación en la cual una función se llama a sí misma para resolver un problema. Cada llamada recursiva resuelve una parte del problema, y el conjunto de llamadas sucesivas permiten alcanzar la solución final."
      ],
      "metadata": {
        "id": "H0TeKl9CVSZk"
      }
    },
    {
      "cell_type": "markdown",
      "source": [
        "#### **¿CÓMO FUNCIONA?**\n",
        "Una función recursiva tiene dos componentes clave:\n",
        "1. **Caso base** (o condición de corte):\n",
        "Es la condición que detiene la recursión, evitando que el proceso se repita\n",
        "infinitamente.\n",
        "2. **Paso recursivo:**\n",
        "Es la parte donde la función se llama a sí misma con un problema más pequeño\n",
        "o una versión modificada del mismo.\n"
      ],
      "metadata": {
        "id": "Quae_0A9VxvI"
      }
    },
    {
      "cell_type": "markdown",
      "source": [
        "#### **Ejemplo simple: cuenta regresiva**\n"
      ],
      "metadata": {
        "id": "qcr43MhSWRji"
      }
    },
    {
      "cell_type": "code",
      "execution_count": null,
      "metadata": {
        "collapsed": true,
        "id": "Nmgbfy4WTXJZ"
      },
      "outputs": [],
      "source": [
        "def cuenta_regresiva(n):\n",
        "    if n == 0:\n",
        "        print(\"¡Despegue!\")\n",
        "    else:\n",
        "        print(n)\n",
        "        cuenta_regresiva(n - 1)\n",
        "\n",
        "cuenta_regresiva(3)\n",
        "\n",
        "# Prueba de escritorio de cuenta_regresiva(3)\n",
        "# Llamada inicial: cuenta_regresiva(3)\n",
        "\n",
        "# Paso | n | Acción\n",
        "# 1    | 3 | Imprime 3, llama a cuenta_regresiva(2)\n",
        "# 2    | 2 | Imprime 2, llama a cuenta_regresiva(1)\n",
        "# 3    | 1 | Imprime 1, llama a cuenta_regresiva(0)\n",
        "# 4    | 0 | Imprime ¡Despegue!"
      ]
    },
    {
      "cell_type": "markdown",
      "source": [
        "#### **¿Qué hace este código paso a paso?**\n",
        "La función `cuenta_regresiva` es un ejemplo clásico de **recursividad**. Lo que hace es imprimir números en orden descendente, desde el número `n` que recibe como parámetro hasta llegar a `0`, donde finalmente imprime `¡Despegue!`.\n",
        "\n",
        "Cuando se llama a la función con `n = 3`, Python comienza ejecutando esa función. Como `n` no es `0`, la función imprime `3` y luego se llama a sí misma pero ahora con `n = 2`. Esta nueva llamada repite el proceso: imprime `2` y se vuelve a llamar con `n = 1`. A su vez, esta siguiente llamada imprime `1` y se llama con `n = 0`.\n",
        "\n",
        "Cuando finalmente la función es llamada con `n = 0`, esta ya no se llama a sí misma otra vez, porque ha llegado al **caso base** de la recursividad: si `n == 0`, simplemente imprime `¡Despegue!` y termina.\n",
        "\n",
        "En cada una de estas llamadas, Python va **guardando en la memoria (en la pila de llamadas)** las funciones que todavía no terminaron. Por ejemplo, cuando llamás `cuenta_regresiva(3)`, esa función queda en espera hasta que termine la llamada `cuenta_regresiva(2)`. A su vez, `cuenta_regresiva(2)` espera a que termine `cuenta_regresiva(1)`, y así sucesivamente.\n",
        "\n",
        "Cuando `cuenta_regresiva(0)` termina (imprime `¡Despegue!`), todas las funciones anteriores van **cerrándose en orden inverso**, es decir, primero termina la que estaba esperando `cuenta_regresiva(0)` (la de `n = 1`), luego la de `n = 2`, y por último la de `n = 3`. Así es como la recursividad entra \"hacia adentro\" llamándose a sí misma y después \"vuelve hacia atrás\" cerrando todas esas llamadas pendientes."
      ],
      "metadata": {
        "id": "tqxYhqsHXbrb"
      }
    },
    {
      "cell_type": "markdown",
      "source": [
        "#### **Ejemplo clásico: factorial de un número**\n",
        "La función factorial se define matemáticamente de la siguente manera:\n",
        "*   factorial(0) = 1\n",
        "*   factorial(n) = n × factorial(n-1)\n",
        "\n",
        "Implementado en Python resulta:"
      ],
      "metadata": {
        "id": "m21vbrH8d4Bh"
      }
    },
    {
      "cell_type": "code",
      "source": [
        "def factorial(n):\n",
        "    if n == 0:\n",
        "        return 1\n",
        "    else:\n",
        "        return n * factorial(n - 1)\n",
        "\n",
        "print(factorial(4))"
      ],
      "metadata": {
        "id": "QWXRNW6Pd-fn"
      },
      "execution_count": null,
      "outputs": []
    },
    {
      "cell_type": "code",
      "source": [
        "print(factorial(6))"
      ],
      "metadata": {
        "id": "72eaEQVCfHru"
      },
      "execution_count": null,
      "outputs": []
    },
    {
      "cell_type": "code",
      "source": [
        "print(factorial(10))"
      ],
      "metadata": {
        "id": "RrTIBmylfKIj"
      },
      "execution_count": null,
      "outputs": []
    },
    {
      "cell_type": "markdown",
      "source": [
        "#### **¿Cómo funciona este código?**\n",
        "\n",
        "La función se llama a sí misma una y otra vez hasta que `n == 0` (caso base).\n",
        "-  `factorial(4)` realiza `4 * factorial(3)`\n",
        "  \n",
        "  En este punto el resultado es `4 * factorial(3)`\n",
        "\n",
        "    -  `factorial(3)` realiza `3 * factorial(2)`\n",
        "\n",
        "      Reemplazando en el resultado anterior, en este punto el resultado se convierte en `4 * 3 * factorial(2)`\n",
        "\n",
        "        - `factorial(2)` realiza `2 * factorial(1)`\n",
        "\n",
        "          Reemplazando en el resultado anterior, en este punto el resultado se convierte en `4 * 3 * 2 * factorial(1)`\n",
        "\n",
        "            - `factorial(1)` realiza `1 * factorial(0)`\n",
        "\n",
        "              Reemplazando en el resultado anterior, en este punto el resultado se convierte en `4 * 3 * 2 * 1 * factorial(0)`\n",
        "\n",
        "                - `factorial(0)` devuelve 1 ya que `n == 0`.\n",
        "                  Reemplazando en el resultado anterior, en este punto el resultado se convierte en `4 * 3 * 2 * 1 * 1`\n",
        "\n",
        "\n",
        "Globalmente la cuenta queda **4.3.2.1.1 = 24**"
      ],
      "metadata": {
        "id": "rnRRZLg8eXiF"
      }
    },
    {
      "cell_type": "markdown",
      "source": [
        "#### **Recursión vs iteración**\n",
        "Toda función **recursiva** se puede escribir de forma **iterativa**, aunque a veces puede ser más difícil o menos natural.\n",
        "La recursividad y la iteración (bucles) son dos formas diferentes de expresar la **repetición de pasos en un algoritmo**.\n",
        "En el fondo, la recursividad es solo una forma de repetir, pero usando **la pila de llamadas del sistema** para \"recordar\" en qué paso estábamos.\n",
        "Un bucle `while` o `for` repite de forma explícita, sin necesidad de usar la pila."
      ],
      "metadata": {
        "id": "NdasZCOihoJ2"
      }
    },
    {
      "cell_type": "markdown",
      "source": [
        "#### **Factorial de un número: forma iterativa**"
      ],
      "metadata": {
        "id": "ghw4h1kViwRa"
      }
    },
    {
      "cell_type": "code",
      "source": [
        "def factorial_iterativo(n):\n",
        "    resultado = 1\n",
        "    for i in range(1, n + 1):\n",
        "        resultado *= i\n",
        "    return resultado\n",
        "\n",
        "print(factorial_iterativo(4))"
      ],
      "metadata": {
        "id": "iWTLZK2ki14n"
      },
      "execution_count": null,
      "outputs": []
    },
    {
      "cell_type": "code",
      "source": [
        "print(factorial(6))"
      ],
      "metadata": {
        "id": "yjk2LpnBjIk1"
      },
      "execution_count": null,
      "outputs": []
    },
    {
      "cell_type": "code",
      "source": [
        "print(factorial(10))"
      ],
      "metadata": {
        "id": "i5wu_SvxjJPb"
      },
      "execution_count": null,
      "outputs": []
    },
    {
      "cell_type": "markdown",
      "source": [
        "#### **Otros ejemplos de recursividad**"
      ],
      "metadata": {
        "id": "xUAPp5HVgQAR"
      }
    },
    {
      "cell_type": "markdown",
      "source": [
        "#### **Suma de una lista**"
      ],
      "metadata": {
        "id": "UgcsfFOhg84a"
      }
    },
    {
      "cell_type": "code",
      "source": [
        "def suma_lista(lista):\n",
        "    if not lista:\n",
        "        return 0\n",
        "    else:\n",
        "        return lista[0] + suma_lista(lista[1:])\n",
        "\n",
        "print(suma_lista([1, 2, 3, 4]))"
      ],
      "metadata": {
        "id": "TDhgob4BgPUb"
      },
      "execution_count": null,
      "outputs": []
    },
    {
      "cell_type": "code",
      "source": [
        "print(suma_lista([3, 2, 5, 6]))"
      ],
      "metadata": {
        "id": "y_1AwFqUgmd5"
      },
      "execution_count": null,
      "outputs": []
    },
    {
      "cell_type": "markdown",
      "source": [
        "#### **Repetición de una frase**"
      ],
      "metadata": {
        "id": "zBqh6T-eiNnR"
      }
    },
    {
      "cell_type": "code",
      "source": [
        "def repetir_frase(num, frase):\n",
        "    if num >=1:\n",
        "        print(frase)\n",
        "        repetir_frase(num-1, frase)\n",
        "\n",
        "repetir_frase(3, \"Hola Mundo\")"
      ],
      "metadata": {
        "id": "PQ5DZepfibtl",
        "colab": {
          "base_uri": "https://localhost:8080/"
        },
        "outputId": "3a555786-1eaa-405b-d7ed-d1dae1cc2d29"
      },
      "execution_count": null,
      "outputs": [
        {
          "output_type": "stream",
          "name": "stdout",
          "text": [
            "Hola Mundo\n",
            "Hola Mundo\n",
            "Hola Mundo\n"
          ]
        }
      ]
    },
    {
      "cell_type": "code",
      "source": [
        "repetir_frase(4, \"Esta es una frase.\")"
      ],
      "metadata": {
        "id": "_e_TfR4tk1u0"
      },
      "execution_count": null,
      "outputs": []
    },
    {
      "cell_type": "markdown",
      "source": [
        "#### **Suma de números positivos**"
      ],
      "metadata": {
        "id": "BFyEHb74lTnb"
      }
    },
    {
      "cell_type": "code",
      "source": [
        "def suma_recursiva(num):\n",
        "    if num == 0:\n",
        "        return 0\n",
        "    else:\n",
        "        return num + suma_recursiva(num-1)\n",
        "\n",
        "suma_recursiva(5)"
      ],
      "metadata": {
        "id": "DLrhOdH1lEOR",
        "colab": {
          "base_uri": "https://localhost:8080/"
        },
        "outputId": "3e28f4e7-f348-49e3-ea31-3e8ecd51aaf5"
      },
      "execution_count": null,
      "outputs": [
        {
          "output_type": "execute_result",
          "data": {
            "text/plain": [
              "15"
            ]
          },
          "metadata": {},
          "execution_count": 1
        }
      ]
    },
    {
      "cell_type": "code",
      "source": [
        "suma_recursiva(10)"
      ],
      "metadata": {
        "id": "EcrJja8dmRcB"
      },
      "execution_count": null,
      "outputs": []
    }
  ]
}